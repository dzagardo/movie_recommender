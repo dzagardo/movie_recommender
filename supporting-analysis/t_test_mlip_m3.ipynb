{
  "cells": [
    {
      "cell_type": "code",
      "execution_count": null,
      "metadata": {
        "id": "quj3wSAFEDaY"
      },
      "outputs": [],
      "source": [
        "# Import the library\n",
        "import scipy.stats as stats\n",
        "import numpy as np \n",
        "# Creating data groups\n",
        "\n",
        "e=3.4657\n",
        "n=55\n",
        "\n",
        "data_group5 = np.array([3.4181, 3.4383, 3.4653, 3.4144, 3.5125]+[e] * n)\n",
        "#  model A lr = 0.05:\n",
        "# 3.4181, 3.4383, 3.4653, 3.4144, 3.5125,\n",
        "# then 55 points at 3.4657\n",
        "\n",
        "e=3.5175\n",
        "n=55\n",
        "\n",
        "data_group1 = np.array([3.4614, 3.4317, 3.4959, 3.5151, 3.399]+[e] * n)\n",
        "\n",
        "# model B lr = 0.01:\n",
        "# 3.4614, 3.4317, 3.4959, 3.5151, 3.399\n",
        "# then 55 points at 3.5175"
      ]
    },
    {
      "cell_type": "code",
      "execution_count": null,
      "metadata": {
        "colab": {
          "base_uri": "https://localhost:8080/"
        },
        "id": "WDjA0E1nFECA",
        "outputId": "76abe299-51c6-40e9-8922-24a35a8a4a24"
      },
      "outputs": [
        {
          "data": {
            "text/plain": [
              "array([3.4181, 3.4383, 3.4653, 3.4144, 3.5125, 3.4657, 3.4657, 3.4657,\n",
              "       3.4657, 3.4657, 3.4657, 3.4657, 3.4657, 3.4657, 3.4657, 3.4657,\n",
              "       3.4657, 3.4657, 3.4657, 3.4657, 3.4657, 3.4657, 3.4657, 3.4657,\n",
              "       3.4657, 3.4657, 3.4657, 3.4657, 3.4657, 3.4657, 3.4657, 3.4657,\n",
              "       3.4657, 3.4657, 3.4657, 3.4657, 3.4657, 3.4657, 3.4657, 3.4657,\n",
              "       3.4657, 3.4657, 3.4657, 3.4657, 3.4657, 3.4657, 3.4657, 3.4657,\n",
              "       3.4657, 3.4657, 3.4657, 3.4657, 3.4657, 3.4657, 3.4657, 3.4657,\n",
              "       3.4657, 3.4657, 3.4657, 3.4657])"
            ]
          },
          "execution_count": 9,
          "metadata": {},
          "output_type": "execute_result"
        }
      ],
      "source": [
        "data_group5"
      ]
    },
    {
      "cell_type": "code",
      "execution_count": null,
      "metadata": {
        "colab": {
          "base_uri": "https://localhost:8080/"
        },
        "id": "FlU1eYpmFYGA",
        "outputId": "1cd05c17-b483-47c7-f64a-afe8b6272528"
      },
      "outputs": [
        {
          "data": {
            "text/plain": [
              "array([3.4181, 3.4383, 3.4653, 3.4144, 3.5125, 3.4657, 3.4657, 3.4657,\n",
              "       3.4657, 3.4657, 3.4657, 3.4657, 3.4657, 3.4657, 3.4657, 3.4657,\n",
              "       3.4657, 3.4657, 3.4657, 3.4657, 3.4657, 3.4657, 3.4657, 3.4657,\n",
              "       3.4657, 3.4657, 3.4657, 3.4657, 3.4657, 3.4657, 3.4657, 3.4657,\n",
              "       3.4657, 3.4657, 3.4657, 3.4657, 3.4657, 3.4657, 3.4657, 3.4657,\n",
              "       3.4657, 3.4657, 3.4657, 3.4657, 3.4657, 3.4657, 3.4657, 3.4657,\n",
              "       3.4657, 3.4657, 3.4657, 3.4657, 3.4657, 3.4657, 3.4657, 3.4657,\n",
              "       3.4657, 3.4657, 3.4657, 3.4657])"
            ]
          },
          "execution_count": 11,
          "metadata": {},
          "output_type": "execute_result"
        }
      ],
      "source": [
        "data_group5"
      ]
    },
    {
      "cell_type": "code",
      "execution_count": null,
      "metadata": {
        "colab": {
          "base_uri": "https://localhost:8080/"
        },
        "id": "g2Py3XRfEG_4",
        "outputId": "a9d72d2f-97fc-475e-cde4-5020e0356bc1"
      },
      "outputs": [
        {
          "data": {
            "text/plain": [
              "Ttest_indResult(statistic=16.246320490894927, pvalue=7.028264917588979e-32)"
            ]
          },
          "execution_count": 10,
          "metadata": {},
          "output_type": "execute_result"
        }
      ],
      "source": [
        "# Perform the two sample t-test with equal variances\n",
        "stats.ttest_ind(a=data_group1, b=data_group5, equal_var=True)"
      ]
    },
    {
      "cell_type": "code",
      "execution_count": null,
      "metadata": {
        "id": "sILZvQI1EOz7"
      },
      "outputs": [],
      "source": []
    }
  ],
  "metadata": {
    "colab": {
      "provenance": []
    },
    "kernelspec": {
      "display_name": "Python 3",
      "name": "python3"
    },
    "language_info": {
      "name": "python"
    }
  },
  "nbformat": 4,
  "nbformat_minor": 0
}
